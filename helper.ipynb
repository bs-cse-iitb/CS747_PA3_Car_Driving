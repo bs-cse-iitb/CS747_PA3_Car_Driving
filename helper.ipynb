{
 "cells": [
  {
   "cell_type": "code",
   "execution_count": 7,
   "id": "375b4fa0",
   "metadata": {},
   "outputs": [],
   "source": [
    "import math"
   ]
  },
  {
   "cell_type": "code",
   "execution_count": 8,
   "id": "d816c7b6",
   "metadata": {},
   "outputs": [],
   "source": [
    "def find_angle(state,x_,y_):\n",
    "    x = state[0]\n",
    "    y = -state[1]   #(x,y) positive in fourth coordinate\n",
    "    theta = state[3]\n",
    "\n",
    "    theta_rad = math.atan((y_-y)/(x_-x))\n",
    "    print(x,x_)\n",
    "    #theta_rad = math.atan((math.pi*(y_-y/(x_-x))/180))\n",
    "    theta_ = (180*theta_rad)/math.pi\n",
    "    if theta_<0:\n",
    "        theta_=abs(theta_)\n",
    "    else:\n",
    "        theta_=360-theta_\n",
    "    step = round(abs((theta - theta_)/3))\n",
    "    return step, theta_"
   ]
  },
  {
   "cell_type": "code",
   "execution_count": 9,
   "id": "7b69f425",
   "metadata": {},
   "outputs": [],
   "source": [
    "def rotation(state,x_,y_):\n",
    "    x = state[0]\n",
    "    y = -state[1]   #(x,y) positive in fourth coordinate\n",
    "\n",
    "    theta_rad = math.atan((y_-y)/(x_-x))\n",
    "    #theta_rad = math.atan((math.pi*(y_-y/(x_-x))/180))\n",
    "    theta_ = (180*theta_rad)/math.pi\n",
    "    if theta_<0:\n",
    "        theta_=abs(theta_)\n",
    "    else:\n",
    "        theta_=360-theta_\n",
    "\n",
    "    step = round(abs((theta - theta_)/3))\n",
    "    return step,theta_"
   ]
  },
  {
   "cell_type": "code",
   "execution_count": null,
   "id": "d52418ef",
   "metadata": {},
   "outputs": [],
   "source": []
  },
  {
   "cell_type": "code",
   "execution_count": null,
   "id": "0e83c83c",
   "metadata": {},
   "outputs": [],
   "source": []
  },
  {
   "cell_type": "code",
   "execution_count": 10,
   "id": "b3cd718c",
   "metadata": {},
   "outputs": [
    {
     "name": "stdout",
     "output_type": "stream",
     "text": [
      "0 1.000000001\n",
      "105 315.0000000286479\n"
     ]
    },
    {
     "ename": "NameError",
     "evalue": "name 'theta' is not defined",
     "output_type": "error",
     "traceback": [
      "\u001b[0;31m---------------------------------------------------------------------------\u001b[0m",
      "\u001b[0;31mNameError\u001b[0m                                 Traceback (most recent call last)",
      "Input \u001b[0;32mIn [10]\u001b[0m, in \u001b[0;36m<cell line: 4>\u001b[0;34m()\u001b[0m\n\u001b[1;32m      2\u001b[0m (a,b) \u001b[38;5;241m=\u001b[39m find_angle(state,\u001b[38;5;241m1.000000001\u001b[39m,\u001b[38;5;241m1\u001b[39m)\n\u001b[1;32m      3\u001b[0m \u001b[38;5;28mprint\u001b[39m(a,b)\n\u001b[0;32m----> 4\u001b[0m step,theta_ \u001b[38;5;241m=\u001b[39m \u001b[43mrotation\u001b[49m\u001b[43m(\u001b[49m\u001b[43mstate\u001b[49m\u001b[43m,\u001b[49m\u001b[38;5;241;43m1\u001b[39;49m\u001b[43m,\u001b[49m\u001b[38;5;241;43m1\u001b[39;49m\u001b[43m)\u001b[49m\n\u001b[1;32m      5\u001b[0m \u001b[38;5;28mprint\u001b[39m(step,theta_,theta)\n",
      "Input \u001b[0;32mIn [9]\u001b[0m, in \u001b[0;36mrotation\u001b[0;34m(state, x_, y_)\u001b[0m\n\u001b[1;32m     10\u001b[0m \u001b[38;5;28;01melse\u001b[39;00m:\n\u001b[1;32m     11\u001b[0m     theta_\u001b[38;5;241m=\u001b[39m\u001b[38;5;241m360\u001b[39m\u001b[38;5;241m-\u001b[39mtheta_\n\u001b[0;32m---> 13\u001b[0m step \u001b[38;5;241m=\u001b[39m \u001b[38;5;28mround\u001b[39m(\u001b[38;5;28mabs\u001b[39m((\u001b[43mtheta\u001b[49m \u001b[38;5;241m-\u001b[39m theta_)\u001b[38;5;241m/\u001b[39m\u001b[38;5;241m3\u001b[39m))\n\u001b[1;32m     14\u001b[0m \u001b[38;5;28;01mreturn\u001b[39;00m step,theta_\n",
      "\u001b[0;31mNameError\u001b[0m: name 'theta' is not defined"
     ]
    }
   ],
   "source": [
    "state = [0,0,0,0]\n",
    "(a,b) = find_angle(state,1.000000001,1)\n",
    "print(a,b)\n",
    "step,theta_ = rotation(state,1,1)\n",
    "print(step,theta_,theta)"
   ]
  },
  {
   "cell_type": "code",
   "execution_count": 62,
   "id": "81a7fdac",
   "metadata": {},
   "outputs": [],
   "source": [
    "def check_obstacle(state,obs1,obs2,obs3,obs4):\n",
    "    y = state[1]\n",
    "    x = state[0]\n",
    "    y_mistake =0\n",
    "    limit =10\n",
    "    if y>=y_mistake and x>0:\n",
    "        if x>obs1[0][0]-limit and x< obs1[1][0]+limit:\n",
    "            if y > obs1[2][1]:\n",
    "                return True\n",
    "    elif (y>y_mistake and x<0):\n",
    "        if x>obs2[0][0]-limit and x< obs2[1][0]+limit:\n",
    "            if y > obs2[2][1]:\n",
    "                return True\n",
    "    elif(y<y_mistake and x<0):\n",
    "        if x>obs3[0][0]-limit and x< obs3[1][0]+limit:\n",
    "            if y < obs3[2][1]:\n",
    "                return True\n",
    "    elif(y<y_mistake  and x>0):\n",
    "        if x>obs4[0][0]-limit and x< obs4[1][0]+limit:\n",
    "            if y < obs4[2][1]:\n",
    "                return True\n",
    "    return False"
   ]
  },
  {
   "cell_type": "code",
   "execution_count": 63,
   "id": "6a25070b",
   "metadata": {},
   "outputs": [
    {
     "name": "stdout",
     "output_type": "stream",
     "text": [
      "True\n"
     ]
    }
   ],
   "source": [
    "state = [126,-262,0,0]\n",
    "\n",
    "obs1= [[140, 173], [240, 173], [240, 273], [140, 273]] \n",
    "obs4 = [[126, -262], [226, -262], [226, -162], [126, -162]]\n",
    "obs3 = [[-228, 120], [-128, 120], [-128, 220], [-228, 220]]\n",
    "obs2 = [[-272, -227], [-172, -227], [-172, -127], [-272, -127]]\n",
    "print(check_obstacle(state,obs1,obs2,obs3,obs4))"
   ]
  },
  {
   "cell_type": "code",
   "execution_count": 26,
   "id": "d5956dd6",
   "metadata": {},
   "outputs": [
    {
     "ename": "IndentationError",
     "evalue": "unindent does not match any outer indentation level (<tokenize>, line 3)",
     "output_type": "error",
     "traceback": [
      "\u001b[0;36m  File \u001b[0;32m<tokenize>:3\u001b[0;36m\u001b[0m\n\u001b[0;31m    elif t==1:\u001b[0m\n\u001b[0m    ^\u001b[0m\n\u001b[0;31mIndentationError\u001b[0m\u001b[0;31m:\u001b[0m unindent does not match any outer indentation level\n"
     ]
    }
   ],
   "source": [
    "            if t==0:\n",
    "                    action = [1,2] # \n",
    "                elif t==1:\n",
    "                    #print(state[0])\n",
    "                    #step,theta_,theta = rotation(state,350,-state[1]) # right direction\n",
    "                    theta_ = find_angle(state,state[0],-25)\n",
    "                    #theta_=state[0]\n",
    "                    theta = state[3]\n",
    "                    step = rotation(theta,theta_)\n",
    "                elif t > 1:\n",
    "\n",
    "                    if t<step+2:\n",
    "                        if theta_>theta:\n",
    "                            action = [2,2]\n",
    "                        else:\n",
    "                            action = [0,2]\n",
    "                    else:\n",
    "                        action = [1,2]\n"
   ]
  },
  {
   "cell_type": "code",
   "execution_count": 54,
   "id": "e9d95617",
   "metadata": {},
   "outputs": [
    {
     "name": "stdout",
     "output_type": "stream",
     "text": [
      "10\n",
      "10\n"
     ]
    }
   ],
   "source": [
    "\n",
    "def fun():\n",
    "    global flag\n",
    "    print(flag)\n",
    "flag =10\n",
    "fun()\n",
    "print(flag)\n",
    "flag=0"
   ]
  },
  {
   "cell_type": "code",
   "execution_count": null,
   "id": "9474ec65",
   "metadata": {},
   "outputs": [],
   "source": []
  },
  {
   "cell_type": "code",
   "execution_count": null,
   "id": "b56a4f32",
   "metadata": {},
   "outputs": [],
   "source": []
  }
 ],
 "metadata": {
  "kernelspec": {
   "display_name": "Python 3 (ipykernel)",
   "language": "python",
   "name": "python3"
  },
  "language_info": {
   "codemirror_mode": {
    "name": "ipython",
    "version": 3
   },
   "file_extension": ".py",
   "mimetype": "text/x-python",
   "name": "python",
   "nbconvert_exporter": "python",
   "pygments_lexer": "ipython3",
   "version": "3.9.12"
  }
 },
 "nbformat": 4,
 "nbformat_minor": 5
}
